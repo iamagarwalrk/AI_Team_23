{
 "cells": [
  {
   "cell_type": "code",
   "execution_count": 1,
   "id": "9d16a436",
   "metadata": {},
   "outputs": [],
   "source": [
    "# Introduction"
   ]
  },
  {
   "cell_type": "code",
   "execution_count": 2,
   "id": "96eb9ffc",
   "metadata": {},
   "outputs": [],
   "source": [
    "## Loading Libraries"
   ]
  },
  {
   "cell_type": "code",
   "execution_count": 3,
   "id": "45e9e28d",
   "metadata": {},
   "outputs": [],
   "source": [
    "import numpy as np\n",
    "import pandas as pd\n",
    "import os\n",
    "import matplotlib.pyplot as plt\n",
    "import seaborn as sns\n",
    "from scipy.signal import savgol_filter\n",
    "from sklearn.preprocessing import StandardScaler"
   ]
  },
  {
   "cell_type": "code",
   "execution_count": 4,
   "id": "e505f913",
   "metadata": {},
   "outputs": [],
   "source": [
    "## Loading Dataset"
   ]
  },
  {
   "cell_type": "code",
   "execution_count": 5,
   "id": "d85eacd7",
   "metadata": {},
   "outputs": [
    {
     "data": {
      "text/html": [
       "<div>\n",
       "<style scoped>\n",
       "    .dataframe tbody tr th:only-of-type {\n",
       "        vertical-align: middle;\n",
       "    }\n",
       "\n",
       "    .dataframe tbody tr th {\n",
       "        vertical-align: top;\n",
       "    }\n",
       "\n",
       "    .dataframe thead th {\n",
       "        text-align: right;\n",
       "    }\n",
       "</style>\n",
       "<table border=\"1\" class=\"dataframe\">\n",
       "  <thead>\n",
       "    <tr style=\"text-align: right;\">\n",
       "      <th></th>\n",
       "      <th>499.24539</th>\n",
       "      <th>501.23394</th>\n",
       "      <th>501.2999</th>\n",
       "      <th>503.28818</th>\n",
       "      <th>503.35441</th>\n",
       "      <th>505.34242</th>\n",
       "      <th>505.40892</th>\n",
       "      <th>507.39666</th>\n",
       "      <th>507.46343</th>\n",
       "      <th>509.45089</th>\n",
       "      <th>...</th>\n",
       "      <th>3989.32917</th>\n",
       "      <th>3989.85414</th>\n",
       "      <th>3991.38341</th>\n",
       "      <th>3991.90864</th>\n",
       "      <th>3993.43765</th>\n",
       "      <th>3993.96315</th>\n",
       "      <th>3995.49188</th>\n",
       "      <th>3996.01766</th>\n",
       "      <th>3997.54612</th>\n",
       "      <th>Target</th>\n",
       "    </tr>\n",
       "  </thead>\n",
       "  <tbody>\n",
       "    <tr>\n",
       "      <th>0</th>\n",
       "      <td>0.285685</td>\n",
       "      <td>0.28567</td>\n",
       "      <td>0.299095</td>\n",
       "      <td>0.31252</td>\n",
       "      <td>0.322775</td>\n",
       "      <td>0.33303</td>\n",
       "      <td>0.325970</td>\n",
       "      <td>0.31891</td>\n",
       "      <td>0.306360</td>\n",
       "      <td>0.29381</td>\n",
       "      <td>...</td>\n",
       "      <td>0.00614</td>\n",
       "      <td>0.006050</td>\n",
       "      <td>0.00596</td>\n",
       "      <td>0.005930</td>\n",
       "      <td>0.00590</td>\n",
       "      <td>0.005950</td>\n",
       "      <td>0.00600</td>\n",
       "      <td>0.006115</td>\n",
       "      <td>0.00623</td>\n",
       "      <td>0.0</td>\n",
       "    </tr>\n",
       "    <tr>\n",
       "      <th>1</th>\n",
       "      <td>0.310230</td>\n",
       "      <td>0.30089</td>\n",
       "      <td>0.310420</td>\n",
       "      <td>0.31995</td>\n",
       "      <td>0.326085</td>\n",
       "      <td>0.33222</td>\n",
       "      <td>0.322500</td>\n",
       "      <td>0.31278</td>\n",
       "      <td>0.301910</td>\n",
       "      <td>0.29104</td>\n",
       "      <td>...</td>\n",
       "      <td>0.00665</td>\n",
       "      <td>0.006585</td>\n",
       "      <td>0.00652</td>\n",
       "      <td>0.006555</td>\n",
       "      <td>0.00659</td>\n",
       "      <td>0.006650</td>\n",
       "      <td>0.00671</td>\n",
       "      <td>0.006700</td>\n",
       "      <td>0.00669</td>\n",
       "      <td>0.0</td>\n",
       "    </tr>\n",
       "    <tr>\n",
       "      <th>2</th>\n",
       "      <td>0.353515</td>\n",
       "      <td>0.34502</td>\n",
       "      <td>0.344660</td>\n",
       "      <td>0.34430</td>\n",
       "      <td>0.343595</td>\n",
       "      <td>0.34289</td>\n",
       "      <td>0.340165</td>\n",
       "      <td>0.33744</td>\n",
       "      <td>0.333335</td>\n",
       "      <td>0.32923</td>\n",
       "      <td>...</td>\n",
       "      <td>0.00153</td>\n",
       "      <td>0.001465</td>\n",
       "      <td>0.00140</td>\n",
       "      <td>0.001395</td>\n",
       "      <td>0.00139</td>\n",
       "      <td>0.001445</td>\n",
       "      <td>0.00150</td>\n",
       "      <td>0.001565</td>\n",
       "      <td>0.00163</td>\n",
       "      <td>0.0</td>\n",
       "    </tr>\n",
       "    <tr>\n",
       "      <th>3</th>\n",
       "      <td>0.244705</td>\n",
       "      <td>0.22002</td>\n",
       "      <td>0.215490</td>\n",
       "      <td>0.21096</td>\n",
       "      <td>0.228045</td>\n",
       "      <td>0.24513</td>\n",
       "      <td>0.260150</td>\n",
       "      <td>0.27517</td>\n",
       "      <td>0.281050</td>\n",
       "      <td>0.28693</td>\n",
       "      <td>...</td>\n",
       "      <td>0.00188</td>\n",
       "      <td>0.001765</td>\n",
       "      <td>0.00165</td>\n",
       "      <td>0.001590</td>\n",
       "      <td>0.00153</td>\n",
       "      <td>0.001585</td>\n",
       "      <td>0.00164</td>\n",
       "      <td>0.001755</td>\n",
       "      <td>0.00187</td>\n",
       "      <td>0.0</td>\n",
       "    </tr>\n",
       "    <tr>\n",
       "      <th>4</th>\n",
       "      <td>0.385975</td>\n",
       "      <td>0.39838</td>\n",
       "      <td>0.384900</td>\n",
       "      <td>0.37142</td>\n",
       "      <td>0.358035</td>\n",
       "      <td>0.34465</td>\n",
       "      <td>0.328860</td>\n",
       "      <td>0.31307</td>\n",
       "      <td>0.302525</td>\n",
       "      <td>0.29198</td>\n",
       "      <td>...</td>\n",
       "      <td>0.00014</td>\n",
       "      <td>0.000185</td>\n",
       "      <td>0.00023</td>\n",
       "      <td>0.000230</td>\n",
       "      <td>0.00023</td>\n",
       "      <td>0.000180</td>\n",
       "      <td>0.00013</td>\n",
       "      <td>0.000090</td>\n",
       "      <td>0.00005</td>\n",
       "      <td>0.0</td>\n",
       "    </tr>\n",
       "  </tbody>\n",
       "</table>\n",
       "<p>5 rows × 3407 columns</p>\n",
       "</div>"
      ],
      "text/plain": [
       "   499.24539  501.23394  501.2999  503.28818  503.35441  505.34242  505.40892  \\\n",
       "0   0.285685    0.28567  0.299095    0.31252   0.322775    0.33303   0.325970   \n",
       "1   0.310230    0.30089  0.310420    0.31995   0.326085    0.33222   0.322500   \n",
       "2   0.353515    0.34502  0.344660    0.34430   0.343595    0.34289   0.340165   \n",
       "3   0.244705    0.22002  0.215490    0.21096   0.228045    0.24513   0.260150   \n",
       "4   0.385975    0.39838  0.384900    0.37142   0.358035    0.34465   0.328860   \n",
       "\n",
       "   507.39666  507.46343  509.45089  ...  3989.32917  3989.85414  3991.38341  \\\n",
       "0    0.31891   0.306360    0.29381  ...     0.00614    0.006050     0.00596   \n",
       "1    0.31278   0.301910    0.29104  ...     0.00665    0.006585     0.00652   \n",
       "2    0.33744   0.333335    0.32923  ...     0.00153    0.001465     0.00140   \n",
       "3    0.27517   0.281050    0.28693  ...     0.00188    0.001765     0.00165   \n",
       "4    0.31307   0.302525    0.29198  ...     0.00014    0.000185     0.00023   \n",
       "\n",
       "   3991.90864  3993.43765  3993.96315  3995.49188  3996.01766  3997.54612  \\\n",
       "0    0.005930     0.00590    0.005950     0.00600    0.006115     0.00623   \n",
       "1    0.006555     0.00659    0.006650     0.00671    0.006700     0.00669   \n",
       "2    0.001395     0.00139    0.001445     0.00150    0.001565     0.00163   \n",
       "3    0.001590     0.00153    0.001585     0.00164    0.001755     0.00187   \n",
       "4    0.000230     0.00023    0.000180     0.00013    0.000090     0.00005   \n",
       "\n",
       "   Target  \n",
       "0     0.0  \n",
       "1     0.0  \n",
       "2     0.0  \n",
       "3     0.0  \n",
       "4     0.0  \n",
       "\n",
       "[5 rows x 3407 columns]"
      ]
     },
     "execution_count": 5,
     "metadata": {},
     "output_type": "execute_result"
    }
   ],
   "source": [
    "df=pd.read_excel('Dataset O.xlsx', index_col=0)\n",
    "df.head()"
   ]
  },
  {
   "cell_type": "code",
   "execution_count": 6,
   "id": "fe1292b7",
   "metadata": {},
   "outputs": [],
   "source": [
    "## Preprocessing"
   ]
  },
  {
   "cell_type": "code",
   "execution_count": 7,
   "id": "d6f951dd",
   "metadata": {},
   "outputs": [],
   "source": [
    "intensity_df=df.drop(['Target'], axis=1).copy()\n",
    "intensity = intensity_df.astype(float).to_numpy()\n",
    "intensity=pd.DataFrame(intensity).apply(pd.to_numeric, errors='coerce').to_numpy()\n",
    "feature = intensity_df.columns.astype(float).to_numpy(copy=True)"
   ]
  },
  {
   "cell_type": "code",
   "execution_count": 8,
   "id": "e7b4cd08",
   "metadata": {},
   "outputs": [],
   "source": [
    "### P1: Baseline correction"
   ]
  },
  {
   "cell_type": "code",
   "execution_count": 9,
   "id": "fd01cef4",
   "metadata": {},
   "outputs": [],
   "source": [
    "def baseline_correction(intensity, feature, degree=2):\n",
    "    \n",
    "    baseline_corrected = np.zeros_like(intensity)\n",
    "    \n",
    "    for i in range(intensity.shape[0]):\n",
    "        coeffs = np.polyfit(feature, intensity[i, :], degree)\n",
    "        baseline = np.polyval(coeffs, feature)\n",
    "        baseline_corrected[i, :] = intensity[i, :] - baseline\n",
    "\n",
    "    return baseline_corrected"
   ]
  },
  {
   "cell_type": "code",
   "execution_count": 10,
   "id": "ab8bff21",
   "metadata": {},
   "outputs": [],
   "source": [
    "new_intensity=baseline_correction(intensity, feature)\n",
    "df_p=pd.DataFrame(new_intensity, columns=feature)\n",
    "df_p['Target']=df['Target']"
   ]
  },
  {
   "cell_type": "code",
   "execution_count": 11,
   "id": "4959b230",
   "metadata": {},
   "outputs": [],
   "source": [
    "df_p.to_excel('Dataset P1.xlsx')"
   ]
  },
  {
   "cell_type": "code",
   "execution_count": 12,
   "id": "ce0a16c1",
   "metadata": {},
   "outputs": [],
   "source": [
    "### P2: SG Smoothing"
   ]
  },
  {
   "cell_type": "code",
   "execution_count": 13,
   "id": "2a7efe36",
   "metadata": {},
   "outputs": [],
   "source": [
    "def sg_smoothing(intensity, window_size=7, poly_order=3):\n",
    "    \n",
    "    smoothed_data = np.zeros_like(intensity)\n",
    "\n",
    "    for i in range(intensity.shape[0]):\n",
    "        smoothed_data[i, :] = savgol_filter(intensity[i, :], window_size, poly_order)\n",
    "\n",
    "    return smoothed_data"
   ]
  },
  {
   "cell_type": "code",
   "execution_count": 14,
   "id": "3d44c666",
   "metadata": {},
   "outputs": [],
   "source": [
    "new_intensity=sg_smoothing(intensity)\n",
    "df_p=pd.DataFrame(new_intensity, columns=feature)\n",
    "df_p['Target']=df['Target']"
   ]
  },
  {
   "cell_type": "code",
   "execution_count": 15,
   "id": "dad12091",
   "metadata": {},
   "outputs": [],
   "source": [
    "df_p.to_excel('Dataset P2.xlsx')"
   ]
  },
  {
   "cell_type": "code",
   "execution_count": 16,
   "id": "2ffc7ca8",
   "metadata": {},
   "outputs": [],
   "source": [
    "### P3: Moving Average Smoothing"
   ]
  },
  {
   "cell_type": "code",
   "execution_count": 17,
   "id": "4d458a52",
   "metadata": {},
   "outputs": [],
   "source": [
    "def moving_average_smoothing(intensity, window_size=5):\n",
    "    \n",
    "    smoothed_data = np.zeros_like(intensity)\n",
    "\n",
    "    for i in range(intensity.shape[0]):\n",
    "        smoothed_data[i, :] = np.convolve(intensity[i, :], np.ones(window_size)/window_size, mode='same')\n",
    "\n",
    "    return smoothed_data"
   ]
  },
  {
   "cell_type": "code",
   "execution_count": 18,
   "id": "890b6c45",
   "metadata": {},
   "outputs": [],
   "source": [
    "new_intensity=moving_average_smoothing(intensity)\n",
    "df_p=pd.DataFrame(new_intensity, columns=feature)\n",
    "df_p['Target']=df['Target']"
   ]
  },
  {
   "cell_type": "code",
   "execution_count": 19,
   "id": "26766644",
   "metadata": {},
   "outputs": [],
   "source": [
    "df_p.to_excel('Dataset P3.xlsx')"
   ]
  },
  {
   "cell_type": "code",
   "execution_count": 20,
   "id": "7666954d",
   "metadata": {},
   "outputs": [],
   "source": [
    "### P4: MSC"
   ]
  },
  {
   "cell_type": "code",
   "execution_count": 21,
   "id": "c0cd76b8",
   "metadata": {},
   "outputs": [],
   "source": [
    "def msc_correction(intensity):\n",
    "    \n",
    "    mean_spectrum = np.mean(intensity, axis=0)\n",
    "    msc_corrected = np.zeros_like(intensity)\n",
    "\n",
    "    for i in range(intensity.shape[0]):\n",
    "        spectrum = intensity[i, :]\n",
    "        msc_corrected[i, :] = spectrum / mean_spectrum\n",
    "\n",
    "    return msc_corrected"
   ]
  },
  {
   "cell_type": "code",
   "execution_count": 22,
   "id": "aba78153",
   "metadata": {},
   "outputs": [],
   "source": [
    "new_intensity=msc_correction(intensity)\n",
    "df_p=pd.DataFrame(new_intensity, columns=feature)\n",
    "df_p['Target']=df['Target']"
   ]
  },
  {
   "cell_type": "code",
   "execution_count": 23,
   "id": "4b0fbcb7",
   "metadata": {},
   "outputs": [],
   "source": [
    "df_p.to_excel('Dataset P4.xlsx')"
   ]
  },
  {
   "cell_type": "code",
   "execution_count": 24,
   "id": "29c012dd",
   "metadata": {},
   "outputs": [],
   "source": [
    "### P5: EMSC"
   ]
  },
  {
   "cell_type": "code",
   "execution_count": 25,
   "id": "8773eebe",
   "metadata": {},
   "outputs": [],
   "source": [
    "def emsc_correction(intensity, poly_order = 2):\n",
    "    \n",
    "    mean_spectrum = np.mean(intensity, axis=0)\n",
    "    emsc_corrected = np.zeros_like(intensity)\n",
    "\n",
    "    for i in range(intensity.shape[0]):\n",
    "        spectrum = intensity[i, :]\n",
    "        eps=1e-10\n",
    "        non_zero_spectrum=np.maximum(spectrum, eps)\n",
    "        coeffs = np.polyfit(feature, np.log(non_zero_spectrum), poly_order)\n",
    "        baseline = np.polyval(coeffs, feature)\n",
    "        corrected_spectrum = spectrum / np.exp(baseline)\n",
    "        emsc_corrected[i, :] = corrected_spectrum / np.mean(corrected_spectrum)\n",
    "\n",
    "    return emsc_corrected"
   ]
  },
  {
   "cell_type": "code",
   "execution_count": 26,
   "id": "f73ab7cd",
   "metadata": {},
   "outputs": [],
   "source": [
    "new_intensity=emsc_correction(intensity)\n",
    "df_p=pd.DataFrame(new_intensity, columns=feature)\n",
    "df_p['Target']=df['Target']"
   ]
  },
  {
   "cell_type": "code",
   "execution_count": 27,
   "id": "7ffe6774",
   "metadata": {},
   "outputs": [],
   "source": [
    "df_p.to_excel('Dataset P5.xlsx')"
   ]
  },
  {
   "cell_type": "code",
   "execution_count": 28,
   "id": "f5b95263",
   "metadata": {},
   "outputs": [],
   "source": [
    "### P6: SNV"
   ]
  },
  {
   "cell_type": "code",
   "execution_count": 29,
   "id": "7b5f7021",
   "metadata": {},
   "outputs": [],
   "source": [
    "def snv_correction(intensity):\n",
    "    \n",
    "    mean_spectrum = np.mean(intensity, axis=0)\n",
    "    std_spectrum = np.std(intensity, axis=0)\n",
    "    snv_corrected = (intensity - mean_spectrum) / std_spectrum\n",
    "\n",
    "    return snv_corrected"
   ]
  },
  {
   "cell_type": "code",
   "execution_count": 30,
   "id": "467ac4f1",
   "metadata": {},
   "outputs": [],
   "source": [
    "new_intensity=snv_correction(intensity)\n",
    "df_p=pd.DataFrame(new_intensity, columns=feature)\n",
    "df_p['Target']=df['Target']"
   ]
  },
  {
   "cell_type": "code",
   "execution_count": 31,
   "id": "4c2d0ca9",
   "metadata": {},
   "outputs": [],
   "source": [
    "df_p.to_excel('Dataset P6.xlsx')"
   ]
  },
  {
   "cell_type": "code",
   "execution_count": 32,
   "id": "54fac012",
   "metadata": {},
   "outputs": [],
   "source": [
    "### P7: Standardization"
   ]
  },
  {
   "cell_type": "code",
   "execution_count": 33,
   "id": "b4be87ff",
   "metadata": {},
   "outputs": [],
   "source": [
    "df_p=df.copy(deep=True)"
   ]
  },
  {
   "cell_type": "code",
   "execution_count": 34,
   "id": "390a9d1b",
   "metadata": {},
   "outputs": [],
   "source": [
    "X=df_p.iloc[:, :-1]\n",
    "Y=df_p.iloc[:, -1].values"
   ]
  },
  {
   "cell_type": "code",
   "execution_count": 35,
   "id": "50cb18ee",
   "metadata": {},
   "outputs": [
    {
     "data": {
      "text/plain": [
       "(179,)"
      ]
     },
     "execution_count": 35,
     "metadata": {},
     "output_type": "execute_result"
    }
   ],
   "source": [
    "Y.shape"
   ]
  },
  {
   "cell_type": "code",
   "execution_count": 36,
   "id": "06cecb19",
   "metadata": {},
   "outputs": [],
   "source": [
    "scaler_features = StandardScaler()\n",
    "scaler_target = StandardScaler()"
   ]
  },
  {
   "cell_type": "code",
   "execution_count": 37,
   "id": "90823d7a",
   "metadata": {},
   "outputs": [],
   "source": [
    "df_p.iloc[:, :-1] = scaler_features.fit_transform(X)\n",
    "df_p.iloc[:, -1] = scaler_target.fit_transform(Y.reshape(-1, 1)).flatten()"
   ]
  },
  {
   "cell_type": "code",
   "execution_count": 38,
   "id": "f0aeb054",
   "metadata": {},
   "outputs": [],
   "source": [
    "df_p.to_excel('Dataset P7.xlsx')"
   ]
  },
  {
   "cell_type": "code",
   "execution_count": 39,
   "id": "42fc6f7a",
   "metadata": {},
   "outputs": [],
   "source": [
    "### P8: Min-max Normalization"
   ]
  },
  {
   "cell_type": "code",
   "execution_count": 40,
   "id": "c036bd1e",
   "metadata": {},
   "outputs": [],
   "source": [
    "df_p=df.copy(deep=True)"
   ]
  },
  {
   "cell_type": "code",
   "execution_count": 41,
   "id": "8817f02d",
   "metadata": {},
   "outputs": [],
   "source": [
    "min_val=(df_p.iloc[:, :-1].min()).min()\n",
    "max_val=(df_p.iloc[:, :-1].max()).max()\n",
    "df_p.iloc[:, :-1]=df_p.iloc[:, :-1].apply(lambda x: (x-min_val)/(max_val-min_val))"
   ]
  },
  {
   "cell_type": "code",
   "execution_count": 42,
   "id": "0e735d80",
   "metadata": {},
   "outputs": [],
   "source": [
    "df_p.to_excel('Dataset P8.xlsx')"
   ]
  },
  {
   "cell_type": "code",
   "execution_count": 43,
   "id": "b7087b53",
   "metadata": {},
   "outputs": [],
   "source": [
    "## Conclusion"
   ]
  }
 ],
 "metadata": {
  "kernelspec": {
   "display_name": "Python 3 (ipykernel)",
   "language": "python",
   "name": "python3"
  },
  "language_info": {
   "codemirror_mode": {
    "name": "ipython",
    "version": 3
   },
   "file_extension": ".py",
   "mimetype": "text/x-python",
   "name": "python",
   "nbconvert_exporter": "python",
   "pygments_lexer": "ipython3",
   "version": "3.11.5"
  }
 },
 "nbformat": 4,
 "nbformat_minor": 5
}
